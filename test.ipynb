{
 "cells": [
  {
   "cell_type": "code",
   "execution_count": 1,
   "metadata": {},
   "outputs": [],
   "source": [
    "%load_ext autoreload\n",
    "%autoreload 2"
   ]
  },
  {
   "cell_type": "code",
   "execution_count": 2,
   "metadata": {},
   "outputs": [],
   "source": [
    "import torch\n",
    "import pyarrow.parquet as pq\n",
    "from textDataset import TranslationDataset\n",
    "from model import Transformer\n",
    "from utils import load_tokenizer, load_data, build_tokenizer, get_config\n",
    "from train import train"
   ]
  },
  {
   "cell_type": "code",
   "execution_count": 3,
   "metadata": {},
   "outputs": [],
   "source": [
    "data_path = '/home/dhhyun/data/train'\n",
    "config_path = 'config.json'\n",
    "h = get_config(config_path)"
   ]
  },
  {
   "cell_type": "code",
   "execution_count": null,
   "metadata": {},
   "outputs": [
    {
     "name": "stdout",
     "output_type": "stream",
     "text": [
      "Model Configuration:\n",
      "\tNumber of layers: 3\n",
      "\td_model: 256\n",
      "\tnum_heads: 4\n",
      "\td_ff: 1024\n",
      "\tDropout: 0.1\n",
      "\n",
      "Training configuration: \n",
      "\tEpoch: 10\n",
      "\tvalid_ratio: 0.02\n",
      "\tWarmup steps: 4000\n",
      "\tBatch size: 4\n",
      "\tnum_workers: 8\n",
      "\tbeta1: 0.9\n",
      "\tbeta2: 0.98\n",
      "\teps: 1e-08\n",
      "\n",
      "\n",
      "model built\n",
      "loading tokenizer from file...\n",
      "done\n",
      "loading data...\n",
      "done\n",
      "data split done\n"
     ]
    },
    {
     "name": "stderr",
     "output_type": "stream",
     "text": [
      "0it [00:00, ?it/s]\n"
     ]
    },
    {
     "name": "stdout",
     "output_type": "stream",
     "text": [
      "epoch: 1\n",
      "                                                  : 196 / 1104653. 0.11165046691894531/batch. 123313.13974189758"
     ]
    }
   ],
   "source": [
    "train(h, data_path, 'ckpt')\n",
    "# batch size 32: <30hours/epoch\n",
    "# batch size 16: <30hours/epoch\n",
    "# batch size 8: 30 hours/epoch\n",
    "# batch size 4: >30 hours/epoch"
   ]
  },
  {
   "cell_type": "code",
   "execution_count": null,
   "metadata": {},
   "outputs": [],
   "source": []
  }
 ],
 "metadata": {
  "kernelspec": {
   "display_name": "env",
   "language": "python",
   "name": "python3"
  },
  "language_info": {
   "codemirror_mode": {
    "name": "ipython",
    "version": 3
   },
   "file_extension": ".py",
   "mimetype": "text/x-python",
   "name": "python",
   "nbconvert_exporter": "python",
   "pygments_lexer": "ipython3",
   "version": "3.8.10"
  }
 },
 "nbformat": 4,
 "nbformat_minor": 2
}
