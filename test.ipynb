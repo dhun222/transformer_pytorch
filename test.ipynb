{
 "cells": [
  {
   "cell_type": "code",
   "execution_count": 1,
   "metadata": {},
   "outputs": [],
   "source": [
    "%load_ext autoreload\n",
    "%autoreload 2"
   ]
  },
  {
   "cell_type": "code",
   "execution_count": 2,
   "metadata": {},
   "outputs": [],
   "source": [
    "import torch\n",
    "import pyarrow.parquet as pq\n",
    "from textDataset import TranslationDataset\n",
    "from model import Transformer\n",
    "from utils import load_tokenizer, load_data, build_tokenizer, get_config\n",
    "from train import train\n",
    "import numpy as np"
   ]
  },
  {
   "cell_type": "code",
   "execution_count": 3,
   "metadata": {},
   "outputs": [
    {
     "ename": "TypeError",
     "evalue": "__init__() missing 1 required positional argument: 'dataset'",
     "output_type": "error",
     "traceback": [
      "\u001b[0;31m---------------------------------------------------------------------------\u001b[0m",
      "\u001b[0;31mTypeError\u001b[0m                                 Traceback (most recent call last)",
      "Cell \u001b[0;32mIn[3], line 2\u001b[0m\n\u001b[1;32m      1\u001b[0m test_set \u001b[38;5;241m=\u001b[39m torch\u001b[38;5;241m.\u001b[39mutils\u001b[38;5;241m.\u001b[39mdata\u001b[38;5;241m.\u001b[39mDataset()\n\u001b[0;32m----> 2\u001b[0m test_loader \u001b[38;5;241m=\u001b[39m \u001b[43mtorch\u001b[49m\u001b[38;5;241;43m.\u001b[39;49m\u001b[43mutils\u001b[49m\u001b[38;5;241;43m.\u001b[39;49m\u001b[43mdata\u001b[49m\u001b[38;5;241;43m.\u001b[39;49m\u001b[43mDataLoader\u001b[49m\u001b[43m(\u001b[49m\u001b[43m)\u001b[49m\n",
      "\u001b[0;31mTypeError\u001b[0m: __init__() missing 1 required positional argument: 'dataset'"
     ]
    }
   ],
   "source": [
    "class Testset(torch.utils.data.Dataset):\n",
    "    def __init__(self):\n",
    "        super().__init__()\n",
    "        self.data = list(range(10))\n",
    "        self.len = len(self.data)\n",
    "\n",
    "    def __len__(self):\n",
    "        return self.len\n",
    "    \n",
    "    def __getitem__(self, idx):\n",
    "        return self.data[idx]\n",
    "\n",
    "class IdxSampler(torch.utils.data.Sampler):\n",
    "    def __init__(self, start):\n",
    "        self.idx = list(range(start, 10))\n",
    "        self.idx.extend(range(start))\n",
    "\n",
    "    def __iter__(self):\n",
    "        return iter(self.idx)\n",
    "    \n",
    "    def __len__(self):\n",
    "        return len(self.idx)\n",
    "\n",
    "testset = Testset()\n",
    "\n",
    "test_loader = torch.utils.data.DataLoader(testset, sampler=)"
   ]
  },
  {
   "cell_type": "code",
   "execution_count": 3,
   "metadata": {},
   "outputs": [],
   "source": [
    "data_path = '/home/dhhyun/data/train'\n",
    "config_path = 'config.json'\n",
    "h = get_config(config_path)"
   ]
  },
  {
   "cell_type": "code",
   "execution_count": null,
   "metadata": {},
   "outputs": [
    {
     "name": "stdout",
     "output_type": "stream",
     "text": [
      "Model Configuration:\n",
      "\tNumber of layers: 3\n",
      "\td_model: 256\n",
      "\tnum_heads: 4\n",
      "\td_ff: 1024\n",
      "\tDropout: 0.1\n",
      "\n",
      "Training configuration: \n",
      "\tEpoch: 10\n",
      "\tvalid_ratio: 0.003\n",
      "\tWarmup steps: 4000\n",
      "\tBatch size: 16\n",
      "\tnum_workers: 8\n",
      "\tbeta1: 0.9\n",
      "\tbeta2: 0.98\n",
      "\teps: 1e-08\n",
      "\n",
      "\n",
      "model built\n",
      "loading tokenizer from file...\n",
      "done\n",
      "loading data...\n",
      "data size: 8.3982665091753\n",
      "done.\n",
      "length: 4508785/train: 4495259\n",
      "4495259\n",
      "data split done\n",
      "loading ckpt...\n",
      "epoch: 0, batch: 170000 / 280954\n"
     ]
    },
    {
     "name": "stderr",
     "output_type": "stream",
     "text": [
      "100%|██████████| 170000/170000 [03:44<00:00, 757.54it/s]\n"
     ]
    },
    {
     "name": "stdout",
     "output_type": "stream",
     "text": [
      "epoch: 1\n",
      "||||||||||||||||||||||||||||||                    : 170209 / 280954. 395ms/batch. estimated: 12.16h.."
     ]
    }
   ],
   "source": [
    "train(h, data_path, 'ckpt')\n",
    "# batch size 32: <30hours/epoch\n",
    "# batch size 16: <30hours/epoch\n",
    "# batch size 8: 30 hours/epoch\n",
    "# batch size 4: >30 hours/epoch"
   ]
  },
  {
   "cell_type": "code",
   "execution_count": null,
   "metadata": {},
   "outputs": [],
   "source": []
  },
  {
   "cell_type": "code",
   "execution_count": null,
   "metadata": {},
   "outputs": [],
   "source": []
  }
 ],
 "metadata": {
  "kernelspec": {
   "display_name": "env",
   "language": "python",
   "name": "python3"
  },
  "language_info": {
   "codemirror_mode": {
    "name": "ipython",
    "version": 3
   },
   "file_extension": ".py",
   "mimetype": "text/x-python",
   "name": "python",
   "nbconvert_exporter": "python",
   "pygments_lexer": "ipython3",
   "version": "3.8.10"
  }
 },
 "nbformat": 4,
 "nbformat_minor": 2
}
